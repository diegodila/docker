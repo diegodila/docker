{
 "cells": [
  {
   "cell_type": "code",
   "execution_count": null,
   "metadata": {},
   "outputs": [],
   "source": [
    "from typing import Optional, Any\n",
    "from pydantic import BaseModel\n",
    "from fastapi import FastAPI\n",
    "from fastapi import HTTPException\n",
    "from fastapi import status\n",
    "\n",
    "from fastapi import Response\n",
    "from fastapi import Header\n",
    "from fastapi import Query\n",
    "from fastapi import Path\n",
    "from fastapi import Depends\n",
    "\n",
    "from time import sleep\n",
    "import nest_asyncio\n",
    "import uvicorn"
   ]
  },
  {
   "cell_type": "code",
   "execution_count": null,
   "metadata": {},
   "outputs": [],
   "source": [
    "import sys\n",
    "sys.path.append(\"fastapi_files/\")"
   ]
  },
  {
   "cell_type": "code",
   "execution_count": null,
   "metadata": {},
   "outputs": [],
   "source": [
    "from fastapi_files.models import Curso"
   ]
  },
  {
   "cell_type": "code",
   "execution_count": null,
   "metadata": {},
   "outputs": [],
   "source": [
    "def fake_db():\n",
    "    try:\n",
    "        print('Abrindo conexao com o banco de dados...')\n",
    "        sleep(2)\n",
    "    finally:\n",
    "        print('Fechando conexao com o banco de dados')\n",
    "        sleep(2)"
   ]
  },
  {
   "cell_type": "code",
   "execution_count": null,
   "metadata": {},
   "outputs": [],
   "source": [
    "app = FastAPI()\n",
    "cursos = {\n",
    "    1: {\n",
    "        \"titulo\": \"adifuadfi\",\n",
    "        \"aulas\": '2323',\n",
    "        \"horas\": '21:64'\n",
    "    },\n",
    "    2: {\n",
    "        \"titulo\": \"logica\",\n",
    "        \"aulas\": '222',\n",
    "        \"horas\": '22:12'\n",
    "    }\n",
    "}"
   ]
  },
  {
   "cell_type": "code",
   "execution_count": null,
   "metadata": {},
   "outputs": [],
   "source": [
    "@app.get('/cursos')\n",
    "async def get_cursos(db: Any = Depends(fake_db)):\n",
    "    return cursos\n",
    "\n",
    "@app.get('/cursos/{curso_id}')\n",
    "async def get_curso(curso_id: int = Path(title='ID do curso', description='Deve ser entre 1 e 2', gt=0, lt=3), db: Any = Depends(fake_db)):\n",
    "    try:\n",
    "        curso = cursos[curso_id]\n",
    "        return curso\n",
    "    except KeyError:\n",
    "        raise HTTPException(status_code=status.HTTP_404_NOT_FOUND,\n",
    "                            detail='Curso nao encontrado')\n"
   ]
  },
  {
   "cell_type": "code",
   "execution_count": null,
   "metadata": {},
   "outputs": [],
   "source": [
    "#passando um status depois de criado com o 201\n",
    "@app.post('/cursos', status_code=status.HTTP_201_CREATED)\n",
    "async def post_curso(curso: Curso, db: Any = Depends(fake_db)):\n",
    "    if curso.id not in cursos:\n",
    "        next_id: int = len(cursos) + 1\n",
    "        curso.id = next_id\n",
    "        cursos[next_id] = curso\n",
    "        return curso\n",
    "    else:\n",
    "        raise HTTPException(status_code=status.HTTP_409_CONFLICT, defail=f\"Ja existe um curso com o ID {curso.id }\")"
   ]
  },
  {
   "cell_type": "code",
   "execution_count": null,
   "metadata": {},
   "outputs": [],
   "source": [
    "@app.put('/cursos/{curso_id}')\n",
    "async def put_curso(curso_id: int, curso: Curso, db: Any = Depends(fake_db)):\n",
    "    if curso_id in cursos:\n",
    "        curso.id = curso_id\n",
    "        cursos[curso_id] = curso\n",
    "        return curso\n",
    "    else:\n",
    "        raise HTTPException(status_code=status.HTTP_404_NOT_FOUND, detail=f'Não foi encontrado o id {curso_id}')"
   ]
  },
  {
   "cell_type": "code",
   "execution_count": null,
   "metadata": {},
   "outputs": [],
   "source": [
    "#uma função sempre retorna algo, mesmo que None, sempre retorna algum valor, retorno de um Json ou Response\n",
    "@app.delete('/cursos/{curso_id}')\n",
    "async def delete_curso(curso_id: int, db: Any = Depends(fake_db)):\n",
    "    if curso_id in cursos:\n",
    "        del cursos[curso_id]\n",
    "        #return JSONResponse(status_code=status.HTTP_204_NO_CONTENT)\n",
    "        return Response(status_code=status.HTTP_204_NO_CONTENT)\n",
    "    else:\n",
    "        raise HTTPException(status_code=status.HTTP_404_NOT_FOUND, detail=f'Não foi encontrado o id {curso_id}')"
   ]
  },
  {
   "cell_type": "code",
   "execution_count": null,
   "metadata": {},
   "outputs": [],
   "source": [
    "@app.get('/calculadora')\n",
    "async def calcular(a: int=Query(gt=5),b: int=Query(gt=4),c: int=Query(gt=4), x_geek:str = Header(print='isssssssssd'), db: Any = Depends(fake_db)):\n",
    "    soma = a + b + c\n",
    "    print(f'X-geek: {x_geek}')\n",
    "    return {\"resultado\": soma}"
   ]
  },
  {
   "cell_type": "code",
   "execution_count": null,
   "metadata": {},
   "outputs": [],
   "source": [
    "if __name__ == '__main__':\n",
    "    nest_asyncio.apply()\n",
    "    uvicorn.run(app, host=\"0.0.0.0\", port=8000)"
   ]
  },
  {
   "cell_type": "code",
   "execution_count": null,
   "metadata": {},
   "outputs": [],
   "source": []
  }
 ],
 "metadata": {
  "kernelspec": {
   "display_name": "Python 3 (ipykernel)",
   "language": "python",
   "name": "python3"
  },
  "language_info": {
   "codemirror_mode": {
    "name": "ipython",
    "version": 3
   },
   "file_extension": ".py",
   "mimetype": "text/x-python",
   "name": "python",
   "nbconvert_exporter": "python",
   "pygments_lexer": "ipython3",
   "version": "3.11.6"
  }
 },
 "nbformat": 4,
 "nbformat_minor": 2
}
