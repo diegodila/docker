{
 "cells": [
  {
   "cell_type": "code",
   "execution_count": 22,
   "metadata": {},
   "outputs": [
    {
     "name": "stdout",
     "output_type": "stream",
     "text": [
      "The history saving thread hit an unexpected error (OperationalError('attempt to write a readonly database')).History will not be written to the database.\n"
     ]
    }
   ],
   "source": [
    "from typing import Optional\n",
    "from pydantic import BaseModel\n",
    "from fastapi import FastAPI\n",
    "from fastapi import HTTPException\n",
    "from fastapi import status\n",
    "import nest_asyncio\n",
    "import uvicorn"
   ]
  },
  {
   "cell_type": "code",
   "execution_count": null,
   "metadata": {},
   "outputs": [],
   "source": [
    "class Curso(BaseModel):\n",
    "    id: Optional[int] = None\n",
    "    titulo: str\n",
    "    aulas: str\n",
    "    horas: int"
   ]
  },
  {
   "cell_type": "code",
   "execution_count": 19,
   "metadata": {},
   "outputs": [],
   "source": [
    "app = FastAPI()\n",
    "cursos = {\n",
    "    1: {\n",
    "        \"titulo\": \"adifuadfi\",\n",
    "        \"aulas\": '2323',\n",
    "        \"horas\": '21:64'\n",
    "    },\n",
    "    2: {\n",
    "        \"titulo\": \"logica\",\n",
    "        \"aulas\": '222',\n",
    "        \"horas\": '22:12'\n",
    "    }\n",
    "}"
   ]
  },
  {
   "cell_type": "code",
   "execution_count": 20,
   "metadata": {},
   "outputs": [],
   "source": [
    "@app.get('/cursos')\n",
    "async def get_cursos():\n",
    "    return cursos\n",
    "\n",
    "@app.get('/cursos/{curso_id}')\n",
    "async def get_curso(curso_id: int):\n",
    "    try:\n",
    "        curso = cursos[curso_id]\n",
    "        return curso\n",
    "    except KeyError:\n",
    "        raise HTTPException(status_code=status.HTTP_404_NOT_FOUND,\n",
    "                            detail='Curso nao encontrado')\n"
   ]
  },
  {
   "cell_type": "code",
   "execution_count": 21,
   "metadata": {},
   "outputs": [
    {
     "name": "stderr",
     "output_type": "stream",
     "text": [
      "INFO:     Started server process [2513]\n",
      "INFO:     Waiting for application startup.\n",
      "INFO:     Application startup complete.\n",
      "INFO:     Uvicorn running on http://0.0.0.0:8000 (Press CTRL+C to quit)\n",
      "INFO:     Shutting down\n",
      "INFO:     Waiting for application shutdown.\n",
      "INFO:     Application shutdown complete.\n",
      "INFO:     Finished server process [2513]\n"
     ]
    }
   ],
   "source": [
    "if __name__ == '__main__':\n",
    "    nest_asyncio.apply()\n",
    "    uvicorn.run(app, host=\"0.0.0.0\", port=8000)"
   ]
  },
  {
   "cell_type": "code",
   "execution_count": 13,
   "metadata": {},
   "outputs": [],
   "source": [
    "def meu_decorator(func):\n",
    "    def wrapper():\n",
    "        print('antes')\n",
    "        func()\n",
    "        print('depois')\n",
    "    return wrapper\n",
    "    \n",
    "@meu_decorator\n",
    "def ola():\n",
    "    print('Oi')\n",
    "    "
   ]
  },
  {
   "cell_type": "code",
   "execution_count": 11,
   "metadata": {},
   "outputs": [
    {
     "ename": "SyntaxError",
     "evalue": "'return' outside function (1566462027.py, line 5)",
     "output_type": "error",
     "traceback": [
      "\u001b[0;36m  Cell \u001b[0;32mIn[11], line 5\u001b[0;36m\u001b[0m\n\u001b[0;31m    return idds, 'ff'\u001b[0m\n\u001b[0m    ^\u001b[0m\n\u001b[0;31mSyntaxError\u001b[0m\u001b[0;31m:\u001b[0m 'return' outside function\n"
     ]
    }
   ],
   "source": [
    "def idds(fn):\n",
    "    print('oi')\n",
    "    fn()\n",
    "    print('oi2')\n",
    "return idds, 'ff'"
   ]
  },
  {
   "cell_type": "code",
   "execution_count": 10,
   "metadata": {},
   "outputs": [
    {
     "name": "stdout",
     "output_type": "stream",
     "text": [
      "oi\n",
      "oiprim\n",
      "oi2\n"
     ]
    },
    {
     "data": {
      "text/plain": [
       "(<function __main__.idds(fn)>, 'ff')"
      ]
     },
     "execution_count": 10,
     "metadata": {},
     "output_type": "execute_result"
    }
   ],
   "source": [
    "def funcd():\n",
    "    print('oiprim')\n",
    "    \n",
    "idds(funcd)"
   ]
  },
  {
   "cell_type": "code",
   "execution_count": 16,
   "metadata": {},
   "outputs": [
    {
     "name": "stdout",
     "output_type": "stream",
     "text": [
      "antes\n",
      "Oi\n",
      "depois\n"
     ]
    }
   ],
   "source": [
    "ola()"
   ]
  },
  {
   "cell_type": "code",
   "execution_count": null,
   "metadata": {},
   "outputs": [],
   "source": []
  }
 ],
 "metadata": {
  "kernelspec": {
   "display_name": "Python 3 (ipykernel)",
   "language": "python",
   "name": "python3"
  },
  "language_info": {
   "codemirror_mode": {
    "name": "ipython",
    "version": 3
   },
   "file_extension": ".py",
   "mimetype": "text/x-python",
   "name": "python",
   "nbconvert_exporter": "python",
   "pygments_lexer": "ipython3",
   "version": "3.11.6"
  }
 },
 "nbformat": 4,
 "nbformat_minor": 2
}
