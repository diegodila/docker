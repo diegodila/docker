{
 "cells": [
  {
   "cell_type": "code",
   "execution_count": 10,
   "metadata": {},
   "outputs": [],
   "source": [
    "from typing import Optional\n",
    "from pydantic import BaseModel\n",
    "from fastapi import FastAPI\n",
    "from fastapi import HTTPException\n",
    "from fastapi import status\n",
    "import nest_asyncio\n",
    "import uvicorn"
   ]
  },
  {
   "cell_type": "code",
   "execution_count": 11,
   "metadata": {},
   "outputs": [],
   "source": [
    "import sys\n",
    "sys.path.append(\"fastapi_files/\")"
   ]
  },
  {
   "cell_type": "code",
   "execution_count": 12,
   "metadata": {},
   "outputs": [
    {
     "name": "stdout",
     "output_type": "stream",
     "text": [
      "ls: cannot access 'fastapi/': No such file or directory\n"
     ]
    }
   ],
   "source": [
    "!ls fastapi/"
   ]
  },
  {
   "cell_type": "code",
   "execution_count": 13,
   "metadata": {},
   "outputs": [],
   "source": [
    "from fastapi_files.models import Curso"
   ]
  },
  {
   "cell_type": "code",
   "execution_count": 14,
   "metadata": {},
   "outputs": [],
   "source": [
    "app = FastAPI()\n",
    "cursos = {\n",
    "    1: {\n",
    "        \"titulo\": \"adifuadfi\",\n",
    "        \"aulas\": '2323',\n",
    "        \"horas\": '21:64'\n",
    "    },\n",
    "    2: {\n",
    "        \"titulo\": \"logica\",\n",
    "        \"aulas\": '222',\n",
    "        \"horas\": '22:12'\n",
    "    }\n",
    "}"
   ]
  },
  {
   "cell_type": "code",
   "execution_count": 15,
   "metadata": {},
   "outputs": [],
   "source": [
    "@app.get('/cursos')\n",
    "async def get_cursos():\n",
    "    return cursos\n",
    "\n",
    "@app.get('/cursos/{curso_id}')\n",
    "async def get_curso(curso_id: int):\n",
    "    try:\n",
    "        curso = cursos[curso_id]\n",
    "        return curso\n",
    "    except KeyError:\n",
    "        raise HTTPException(status_code=status.HTTP_404_NOT_FOUND,\n",
    "                            detail='Curso nao encontrado')\n"
   ]
  },
  {
   "cell_type": "code",
   "execution_count": null,
   "metadata": {},
   "outputs": [],
   "source": [
    "@app.post('/cursos')\n",
    "async def post_curso(curso: Curso):\n",
    "    if curso.id not in cursos:\n",
    "        next_id: int = len(cursos) + 1\n",
    "        curso.id = next_id\n",
    "        curso.titulo = next_id\n",
    "        cursos[next_id] = curso\n",
    "        return curso\n",
    "    else:\n",
    "        raise HTTPException(status_code=status.HTTP_409_CONFLICT, defail=f\"Ja existe um curso com o ID {curso.id }\")"
   ]
  },
  {
   "cell_type": "code",
   "execution_count": null,
   "metadata": {},
   "outputs": [
    {
     "name": "stderr",
     "output_type": "stream",
     "text": [
      "INFO:     Started server process [21854]\n",
      "INFO:     Waiting for application startup.\n",
      "INFO:     Application startup complete.\n",
      "INFO:     Uvicorn running on http://0.0.0.0:8000 (Press CTRL+C to quit)\n"
     ]
    },
    {
     "name": "stdout",
     "output_type": "stream",
     "text": [
      "INFO:     172.18.0.1:48184 - \"POST /cursos/ HTTP/1.1\" 307 Temporary Redirect\n",
      "INFO:     172.18.0.1:48190 - \"POST /cursos HTTP/1.1\" 200 OK\n",
      "INFO:     172.18.0.1:39942 - \"POST /cursos/ HTTP/1.1\" 307 Temporary Redirect\n",
      "INFO:     172.18.0.1:39944 - \"POST /cursos HTTP/1.1\" 200 OK\n",
      "INFO:     172.18.0.1:39960 - \"GET /cursos HTTP/1.1\" 200 OK\n",
      "INFO:     172.18.0.1:52898 - \"POST /cursos/ HTTP/1.1\" 307 Temporary Redirect\n",
      "INFO:     172.18.0.1:52902 - \"POST /cursos HTTP/1.1\" 200 OK\n",
      "INFO:     172.18.0.1:52916 - \"POST /cursos/ HTTP/1.1\" 307 Temporary Redirect\n",
      "INFO:     172.18.0.1:52932 - \"POST /cursos HTTP/1.1\" 200 OK\n",
      "INFO:     172.18.0.1:52946 - \"GET /cursos HTTP/1.1\" 200 OK\n"
     ]
    }
   ],
   "source": [
    "if __name__ == '__main__':\n",
    "    nest_asyncio.apply()\n",
    "    uvicorn.run(app, host=\"0.0.0.0\", port=8000)"
   ]
  },
  {
   "cell_type": "code",
   "execution_count": null,
   "metadata": {},
   "outputs": [],
   "source": []
  }
 ],
 "metadata": {
  "kernelspec": {
   "display_name": "Python 3 (ipykernel)",
   "language": "python",
   "name": "python3"
  },
  "language_info": {
   "codemirror_mode": {
    "name": "ipython",
    "version": 3
   },
   "file_extension": ".py",
   "mimetype": "text/x-python",
   "name": "python",
   "nbconvert_exporter": "python",
   "pygments_lexer": "ipython3",
   "version": "3.11.6"
  }
 },
 "nbformat": 4,
 "nbformat_minor": 2
}
