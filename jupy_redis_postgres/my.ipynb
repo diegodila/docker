{
 "cells": [
  {
   "cell_type": "code",
   "execution_count": null,
   "id": "fe7574ad",
   "metadata": {},
   "outputs": [],
   "source": [
    "config = dotenv_values()\n",
    "print(config)"
   ]
  },
  {
   "cell_type": "code",
   "execution_count": null,
   "id": "b6dc0ab9-0417-499f-a2b9-770ea8b8a508",
   "metadata": {},
   "outputs": [],
   "source": [
    "import os \n",
    "os.environ"
   ]
  },
  {
   "cell_type": "code",
   "execution_count": null,
   "id": "5ae456b7-fd21-4bc7-8319-4a08d04e1ba9",
   "metadata": {},
   "outputs": [],
   "source": [
    "import psycopg2\n",
    "\n",
    "conn2 = psycopg2.connect(database='postgres',\n",
    "                        host='postgres',\n",
    "                        user='postgres',\n",
    "                        password='mysimple_pass',\n",
    "                        port='5432')"
   ]
  },
  {
   "cell_type": "code",
   "execution_count": null,
   "id": "28fe2402-a1ac-4ee8-854c-7c6f7f86a733",
   "metadata": {},
   "outputs": [],
   "source": [
    "conn2"
   ]
  },
  {
   "cell_type": "code",
   "execution_count": null,
   "id": "10ece706-0ff3-428b-b997-59a2bdd3d746",
   "metadata": {},
   "outputs": [],
   "source": [
    "cursor = conn2.cursor()"
   ]
  },
  {
   "cell_type": "code",
   "execution_count": null,
   "id": "e36f9bd0-8a72-41e4-910f-0b5ed0b58c5b",
   "metadata": {},
   "outputs": [],
   "source": [
    "cursor "
   ]
  },
  {
   "cell_type": "code",
   "execution_count": null,
   "id": "cc5f25ee-6a21-40a3-8837-9924918c92c4",
   "metadata": {},
   "outputs": [],
   "source": [
    "cursor.execute('select * from \"Person\".\"Address\"')"
   ]
  },
  {
   "cell_type": "code",
   "execution_count": null,
   "id": "1038dce0-4902-4c6c-ba14-64d30c797d2c",
   "metadata": {},
   "outputs": [],
   "source": [
    "cursor.execute(\"SELECT version();\")"
   ]
  },
  {
   "cell_type": "code",
   "execution_count": null,
   "id": "d398236e-ebf2-4285-815b-6e4159d0df41",
   "metadata": {},
   "outputs": [],
   "source": [
    "cursor.fetchall()"
   ]
  },
  {
   "cell_type": "code",
   "execution_count": null,
   "id": "f0a07b0c",
   "metadata": {},
   "outputs": [],
   "source": [
    "from fastapi import FastAPI\n",
    "import nest_asyncio\n",
    "import uvicorn"
   ]
  },
  {
   "cell_type": "code",
   "execution_count": null,
   "id": "0f49410c",
   "metadata": {},
   "outputs": [],
   "source": [
    "app = FastAPI()"
   ]
  },
  {
   "cell_type": "code",
   "execution_count": null,
   "id": "4d48da00",
   "metadata": {},
   "outputs": [],
   "source": [
    "@app.get('/')\n",
    "async def raiz():\n",
    "    return {\"msg\": \"fastapsi\"}"
   ]
  },
  {
   "cell_type": "code",
   "execution_count": null,
   "id": "453f5127",
   "metadata": {},
   "outputs": [],
   "source": [
    "if __name__ == \"__main__\":\n",
    "    nest_asyncio.apply()\n",
    "    uvicorn.run(app, host=\"0.0.0.0\", port=8000)"
   ]
  },
  {
   "cell_type": "code",
   "execution_count": null,
   "id": "df665903",
   "metadata": {},
   "outputs": [],
   "source": []
  },
  {
   "cell_type": "code",
   "execution_count": null,
   "id": "3cb4641a",
   "metadata": {},
   "outputs": [],
   "source": []
  }
 ],
 "metadata": {
  "kernelspec": {
   "display_name": "Python 3 (ipykernel)",
   "language": "python",
   "name": "python3"
  },
  "language_info": {
   "codemirror_mode": {
    "name": "ipython",
    "version": 3
   },
   "file_extension": ".py",
   "mimetype": "text/x-python",
   "name": "python",
   "nbconvert_exporter": "python",
   "pygments_lexer": "ipython3",
   "version": "3.11.6"
  }
 },
 "nbformat": 4,
 "nbformat_minor": 5
}
