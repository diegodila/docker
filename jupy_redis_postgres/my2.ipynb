{
 "cells": [
  {
   "cell_type": "code",
   "execution_count": 11,
   "metadata": {},
   "outputs": [],
   "source": [
    "from typing import Optional\n",
    "from pydantic import BaseModel\n",
    "from fastapi import FastAPI\n",
    "import nest_asyncio\n",
    "import uvicorn"
   ]
  },
  {
   "cell_type": "code",
   "execution_count": 12,
   "metadata": {},
   "outputs": [],
   "source": [
    "class Curso(BaseModel):\n",
    "    id: Optional[int] = None\n",
    "    titulo: str\n",
    "    aulas: str\n",
    "    horas: int"
   ]
  },
  {
   "cell_type": "code",
   "execution_count": 17,
   "metadata": {},
   "outputs": [],
   "source": [
    "app = FastAPI()\n",
    "cursos = {\n",
    "    1: {\n",
    "        \"titulo\": \"adifuadfi\",\n",
    "        \"aulas\": '2323',\n",
    "        \"horas\": '21:64'\n",
    "    },\n",
    "    2: {\n",
    "        \"titulo\": \"logica\",\n",
    "        \"aulas\": '222',\n",
    "        \"horas\": '22:12'\n",
    "    }\n",
    "}"
   ]
  },
  {
   "cell_type": "code",
   "execution_count": 20,
   "metadata": {},
   "outputs": [],
   "source": [
    "@app.get('/cursos')\n",
    "async def get_cursos():\n",
    "    return cursos\n",
    "\n",
    "@app.get('/cursos/{curso_id}')\n",
    "async def get_curso(curso_id:int):\n",
    "    curso = cursos[curso_id]\n",
    "    curso.update({'id': curso_id})\n",
    "    \n",
    "    return curso"
   ]
  },
  {
   "cell_type": "code",
   "execution_count": null,
   "metadata": {},
   "outputs": [
    {
     "name": "stderr",
     "output_type": "stream",
     "text": [
      "INFO:     Started server process [1062]\n",
      "INFO:     Waiting for application startup.\n",
      "INFO:     Application startup complete.\n",
      "INFO:     Uvicorn running on http://0.0.0.0:8000 (Press CTRL+C to quit)\n"
     ]
    },
    {
     "name": "stdout",
     "output_type": "stream",
     "text": [
      "INFO:     172.18.0.1:39992 - \"GET /cursos/1 HTTP/1.1\" 200 OK\n"
     ]
    }
   ],
   "source": [
    "if __name__ == '__main__':\n",
    "    nest_asyncio.apply()\n",
    "    uvicorn.run(app, host=\"0.0.0.0\", port=8000)"
   ]
  },
  {
   "cell_type": "code",
   "execution_count": null,
   "metadata": {},
   "outputs": [],
   "source": []
  }
 ],
 "metadata": {
  "kernelspec": {
   "display_name": "Python 3 (ipykernel)",
   "language": "python",
   "name": "python3"
  }
 },
 "nbformat": 4,
 "nbformat_minor": 2
}
