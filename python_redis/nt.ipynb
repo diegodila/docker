{
 "cells": [
  {
   "cell_type": "markdown",
   "id": "61c1a530",
   "metadata": {},
   "source": [
    "## Faz a conexao com o container jupyter notebook e com o container Redis atraves do cliente Redis do python.\n",
    "####   container jupyter + container redis + requests api + json redis "
   ]
  },
  {
   "cell_type": "code",
   "execution_count": null,
   "id": "3a03d984",
   "metadata": {},
   "outputs": [
    {
     "ename": "",
     "evalue": "",
     "output_type": "error",
     "traceback": [
      "\u001b[1;31mFailed to connect to the remote Jupyter Server 'http://localhost:8888/'. Verify the server is running and reachable. (Failed to connect to the remote Jupyter Server 'http://localhost:8888/'. Verify the server is running and reachable. (Forbidden).)."
     ]
    }
   ],
   "source": [
    "# so é necessario se o Dockerfile nao tiver instalado o Redis no container jupyter notebook\n",
    "!pip install redis"
   ]
  },
  {
   "cell_type": "code",
   "execution_count": 2,
   "id": "13de1234",
   "metadata": {},
   "outputs": [
    {
     "name": "stdout",
     "output_type": "stream",
     "text": [
      "True\n"
     ]
    }
   ],
   "source": [
    "import redis\n",
    "\n",
    "# tenta conectar pelo nome do serviço (resolvido pelo DNS interno do docker)\n",
    "red = redis.Redis(host=\"redis\", port=6379)\n",
    "\n",
    "print(red.ping()) "
   ]
  },
  {
   "cell_type": "code",
   "execution_count": null,
   "id": "c95725b4",
   "metadata": {},
   "outputs": [],
   "source": []
  },
  {
   "cell_type": "code",
   "execution_count": null,
   "id": "c3e73edd",
   "metadata": {},
   "outputs": [],
   "source": []
  },
  {
   "cell_type": "markdown",
   "id": "1b05bdfe",
   "metadata": {},
   "source": [
    "### Fazendo a consulta em uma api e depois salvando esses dados no Redis"
   ]
  },
  {
   "cell_type": "code",
   "execution_count": 34,
   "id": "925633b1",
   "metadata": {},
   "outputs": [
    {
     "name": "stdout",
     "output_type": "stream",
     "text": [
      "b'{\"timestamp\":\"2025-08-28T00:20:24.372+00:00\",\"status\":405,\"error\":\"Method Not Allowed\",\"path\":\"/objects\"}'\n"
     ]
    }
   ],
   "source": [
    "import requests\n",
    "import json\n",
    "from redis.commands.json.path import Path\n",
    "\n",
    "\n",
    "headers = {\"content-type\": \"application/json\"}\n",
    "payload = json.dumps({ \"name\": \"Apple AirPods\", \"data\": { \"color\": \"white\", \"generation\": \"3rd\", \"price\": 135}})\n",
    "requestUrl = \"https://api.restful-api.dev/objects\"\n",
    "r = requests.put(requestUrl, data=payload, headers=headers)\n",
    "\n",
    "print(r.content)"
   ]
  },
  {
   "cell_type": "code",
   "execution_count": 31,
   "id": "dc7e1c76",
   "metadata": {},
   "outputs": [],
   "source": [
    "produto = requests.get(requestUrl).json()[0]"
   ]
  },
  {
   "cell_type": "code",
   "execution_count": 27,
   "id": "e69e09a7",
   "metadata": {},
   "outputs": [
    {
     "data": {
      "text/plain": [
       "2"
      ]
     },
     "execution_count": 27,
     "metadata": {},
     "output_type": "execute_result"
    }
   ],
   "source": [
    "red.rpush('meuNome', 'iodf')"
   ]
  },
  {
   "cell_type": "code",
   "execution_count": 28,
   "id": "7bdfbe8e",
   "metadata": {},
   "outputs": [
    {
     "data": {
      "text/plain": [
       "2"
      ]
     },
     "execution_count": 28,
     "metadata": {},
     "output_type": "execute_result"
    }
   ],
   "source": [
    "red.llen('meuNome')"
   ]
  },
  {
   "cell_type": "code",
   "execution_count": 30,
   "id": "6cab7f55",
   "metadata": {},
   "outputs": [
    {
     "data": {
      "text/plain": [
       "[b'iodf', b'iodf']"
      ]
     },
     "execution_count": 30,
     "metadata": {},
     "output_type": "execute_result"
    }
   ],
   "source": [
    "red.lrange('meuNome', 0, -1)"
   ]
  },
  {
   "cell_type": "code",
   "execution_count": 38,
   "id": "96739045",
   "metadata": {},
   "outputs": [
    {
     "data": {
      "text/plain": [
       "True"
      ]
     },
     "execution_count": 38,
     "metadata": {},
     "output_type": "execute_result"
    }
   ],
   "source": [
    "# salva JSON nativo\n",
    "red.json().set(f\"product:{produto['id']}\", Path.root_path(), produto)"
   ]
  },
  {
   "cell_type": "code",
   "execution_count": 45,
   "id": "b8a72402",
   "metadata": {},
   "outputs": [
    {
     "data": {
      "text/plain": [
       "b'ReJSON-RL'"
      ]
     },
     "execution_count": 45,
     "metadata": {},
     "output_type": "execute_result"
    }
   ],
   "source": [
    "red.type('product:1')"
   ]
  },
  {
   "cell_type": "code",
   "execution_count": 42,
   "id": "e8757177",
   "metadata": {},
   "outputs": [
    {
     "data": {
      "text/plain": [
       "[b'meuNome', b'product:1']"
      ]
     },
     "execution_count": 42,
     "metadata": {},
     "output_type": "execute_result"
    }
   ],
   "source": [
    "red.keys('*')"
   ]
  },
  {
   "cell_type": "code",
   "execution_count": null,
   "id": "b0c04536",
   "metadata": {},
   "outputs": [
    {
     "name": "stdout",
     "output_type": "stream",
     "text": [
      "{'id': '1', 'name': 'Google Pixel 6 Pro', 'data': {'color': 'Cloudy White', 'capacity': '128 GB'}}\n"
     ]
    }
   ],
   "source": [
    "print(red.json().get(\"product:1\", Path(\".data.color\")))\n"
   ]
  }
 ],
 "metadata": {
  "kernelspec": {
   "display_name": "Python 3 (ipykernel)",
   "language": "python",
   "name": "python3"
  },
  "language_info": {
   "codemirror_mode": {
    "name": "ipython",
    "version": 3
   },
   "file_extension": ".py",
   "mimetype": "text/x-python",
   "name": "python",
   "nbconvert_exporter": "python",
   "pygments_lexer": "ipython3",
   "version": "3.11.6"
  }
 },
 "nbformat": 4,
 "nbformat_minor": 5
}
