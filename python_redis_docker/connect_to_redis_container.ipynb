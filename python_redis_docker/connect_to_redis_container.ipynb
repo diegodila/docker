{
 "cells": [
  {
   "cell_type": "markdown",
   "id": "9870be83",
   "metadata": {},
   "source": [
    "##   How to connect to Redis using Python\n",
    "###   Python outside of Docker and Redis container\n"
   ]
  },
  {
   "cell_type": "code",
   "execution_count": 6,
   "id": "52a8f4da",
   "metadata": {},
   "outputs": [
    {
     "name": "stdout",
     "output_type": "stream",
     "text": [
      "True\n"
     ]
    }
   ],
   "source": [
    "import redis\n",
    "\n",
    "# tenta conectar pelo nome do serviço (resolvido pelo DNS interno do docker)\n",
    "red = redis.Redis(host=\"redis\", port=6379)\n",
    "\n",
    "print(red.ping()) "
   ]
  },
  {
   "cell_type": "code",
   "execution_count": null,
   "id": "29e4d82b",
   "metadata": {},
   "outputs": [
    {
     "name": "stdout",
     "output_type": "stream",
     "text": [
      "True\n"
     ]
    }
   ],
   "source": [
    "#ver rede dos container (python redis (estao na mesma rede, podemos colocar apenas redis atraves do docker dns resolver))\n",
    "import redis\n",
    "\n",
    "redis_cli = redis.Redis(\n",
    "    host='redis',\n",
    "    port=6379,\n",
    "    decode_responses=True\n",
    "    )\n",
    "connection = redis_cli.ping()\n",
    "\n",
    "print(connection)"
   ]
  },
  {
   "cell_type": "code",
   "execution_count": 8,
   "id": "60fbf104",
   "metadata": {},
   "outputs": [
    {
     "data": {
      "text/plain": [
       "True"
      ]
     },
     "execution_count": 8,
     "metadata": {},
     "output_type": "execute_result"
    }
   ],
   "source": [
    "import redis\n",
    "r = redis.Redis(host='redis', port=6379)\n",
    "r.ping()"
   ]
  },
  {
   "cell_type": "code",
   "execution_count": 12,
   "id": "78b465cf",
   "metadata": {},
   "outputs": [
    {
     "data": {
      "text/plain": [
       "True"
      ]
     },
     "execution_count": 12,
     "metadata": {},
     "output_type": "execute_result"
    }
   ],
   "source": [
    "import redis\n",
    "r = redis.Redis()\n",
    "r.ping()"
   ]
  },
  {
   "cell_type": "code",
   "execution_count": 14,
   "id": "d3bad5cc",
   "metadata": {},
   "outputs": [
    {
     "data": {
      "text/plain": [
       "True"
      ]
     },
     "execution_count": 14,
     "metadata": {},
     "output_type": "execute_result"
    }
   ],
   "source": [
    "\n",
    "import redis\n",
    "r = redis.Redis(host='0.0.0.0', port=6379)\n",
    "r.ping()"
   ]
  },
  {
   "cell_type": "code",
   "execution_count": 3,
   "id": "80ab47c1",
   "metadata": {},
   "outputs": [
    {
     "data": {
      "text/plain": [
       "True"
      ]
     },
     "execution_count": 3,
     "metadata": {},
     "output_type": "execute_result"
    }
   ],
   "source": [
    "\n",
    "import redis\n",
    "r = redis.Redis(host='localhost', port=6379)\n",
    "r.ping()"
   ]
  },
  {
   "cell_type": "code",
   "execution_count": 16,
   "id": "d252d38e",
   "metadata": {},
   "outputs": [
    {
     "data": {
      "text/plain": [
       "True"
      ]
     },
     "execution_count": 16,
     "metadata": {},
     "output_type": "execute_result"
    }
   ],
   "source": [
    "#Set your key\n",
    "redis_cli.set('my-first-key', 'code-always')\n"
   ]
  },
  {
   "cell_type": "code",
   "execution_count": 5,
   "id": "8544bd6f",
   "metadata": {},
   "outputs": [
    {
     "data": {
      "text/plain": [
       "b'code-always'"
      ]
     },
     "execution_count": 5,
     "metadata": {},
     "output_type": "execute_result"
    }
   ],
   "source": [
    "r.get('my-first-key')"
   ]
  },
  {
   "cell_type": "code",
   "execution_count": 7,
   "id": "fbf0e1af",
   "metadata": {},
   "outputs": [
    {
     "data": {
      "text/plain": [
       "[b'my-first-key']"
      ]
     },
     "execution_count": 7,
     "metadata": {},
     "output_type": "execute_result"
    }
   ],
   "source": [
    "r.keys('*')"
   ]
  },
  {
   "cell_type": "code",
   "execution_count": null,
   "id": "67401fa7",
   "metadata": {},
   "outputs": [],
   "source": [
    "r.h"
   ]
  }
 ],
 "metadata": {
  "kernelspec": {
   "display_name": "Python 3 (ipykernel)",
   "language": "python",
   "name": "python3"
  },
  "language_info": {
   "codemirror_mode": {
    "name": "ipython",
    "version": 3
   },
   "file_extension": ".py",
   "mimetype": "text/x-python",
   "name": "python",
   "nbconvert_exporter": "python",
   "pygments_lexer": "ipython3",
   "version": "3.11.6"
  }
 },
 "nbformat": 4,
 "nbformat_minor": 5
}
